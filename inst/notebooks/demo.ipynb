{
 "cells": [
  {
   "cell_type": "code",
   "execution_count": 1,
   "id": "91b70f7f-ec3b-410a-855d-257887622217",
   "metadata": {},
   "outputs": [
    {
     "data": {
      "application/vnd.jupyter.widget-view+json": {
       "model_id": "aad3b484f9a249058f6bccf052f5c7a8",
       "version_major": 2,
       "version_minor": 0
      }
     },
     "execution_count": 1,
     "metadata": {},
     "output_type": "execute_result"
    }
   ],
   "source": [
    "library(jupyter.widgets.controls)\n",
    "\n",
    "slider <- IntSlider(style = SliderStyle(handle_color = \"black\"))\n",
    "txt <- Text()\n",
    "b <- Button(description = \"update slider\")\n",
    "picker <- ColorPicker()\n",
    "\n",
    "# when the button is clicked, the slider value changes\n",
    "b$on(\"click\", function(){\n",
    "    slider$value <- round(runif(1, min = 0, max = 100))\n",
    "})\n",
    "\n",
    "# when the slider value changes, the txt changes\n",
    "slider$observe(\"value\", function(new, ...) {\n",
    "    txt$value <- paste(sample(letters, size = new, replace = TRUE), collapse = \"\")\n",
    "})\n",
    "\n",
    "# change the color of the slider handle\n",
    "picker$observe(\"value\", function(new, ...) {\n",
    "    slider$style$handle_color <- new\n",
    "    txt$style$text_color <- new\n",
    "    b$style$text_color <- new\n",
    "})\n",
    "\n",
    "box <- Box(list(picker, slider, b, txt))\n",
    "\n",
    "box"
   ]
  },
  {
   "cell_type": "code",
   "execution_count": 3,
   "id": "3b9b3912-5dda-4af2-b7ba-356eaaa6a11c",
   "metadata": {},
   "outputs": [
    {
     "data": {
      "application/vnd.jupyter.widget-view+json": {
       "model_id": "d1e480e8ea0146c2b659afda4b679633",
       "version_major": 2,
       "version_minor": 0
      }
     },
     "execution_count": 3,
     "metadata": {},
     "output_type": "execute_result"
    }
   ],
   "source": [
    "library(jupyter.widgets.controls)\n",
    "\n",
    "progress <- IntProgress(value=0, min = 0, max = 100)\n",
    "progress"
   ]
  },
  {
   "cell_type": "code",
   "execution_count": 4,
   "id": "15416f67-7170-45c2-a6de-82fad5c97ff2",
   "metadata": {},
   "outputs": [],
   "source": [
    "for (i in 1:100) {\n",
    "    Sys.sleep(.2)\n",
    "    progress$value <- i\n",
    "}"
   ]
  }
 ],
 "metadata": {
  "kernelspec": {
   "display_name": "R 4.4.2 (xr)",
   "language": "R",
   "name": "xr"
  },
  "language_info": {
   "codemirror_mode": "",
   "file_extension": "R",
   "mimetype": "text/x-R",
   "name": "R",
   "nbconvert_exporter": "",
   "pygments_lexer": "",
   "version": "4.4.2"
  }
 },
 "nbformat": 4,
 "nbformat_minor": 5
}
