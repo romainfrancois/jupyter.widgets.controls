{
 "cells": [
  {
   "cell_type": "code",
   "execution_count": 1,
   "id": "072a3789-2c5a-4e74-ad12-728438714685",
   "metadata": {},
   "outputs": [
    {
     "ename": "ERROR",
     "evalue": "aucun package nommé ‘jupyter.widgets.controls’ n'est trouvé",
     "output_type": "error",
     "traceback": [
      "\u001b[31m--- Error\u001b[39m",
      "aucun package nommé ‘jupyter.widgets.controls’ n'est trouvé",
      "",
      "\u001b[31m--- Traceback (most recent call last)\u001b[39m",
      "3: eval(expr, envir)",
      "2: library(jupyter.widgets.controls)",
      "1: stop(packageNotFoundError(package, lib.loc, sys.call()))"
     ]
    }
   ],
   "source": [
    "library(jupyter.widgets.controls)\n",
    "\n",
    "slider <- IntSlider()\n",
    "txt <- Text()\n",
    "tryCatch(box <- Box(slider, txt), error = print)"
   ]
  },
  {
   "cell_type": "code",
   "execution_count": 4,
   "id": "9b8f6336-71e0-41e7-96db-5aff26d75829",
   "metadata": {},
   "outputs": [
    {
     "ename": "ERROR",
     "evalue": "ouch",
     "output_type": "error",
     "traceback": [
      "\u001b[31m--- Error\u001b[39m",
      "ouch",
      "",
      "\u001b[31m--- Traceback (most recent call last)\u001b[39m",
      "5: eval(expr, envir)",
      "4: g()",
      "3: f()",
      "2: stop(\"ouch\")",
      "1: .handleSimpleError(function (cnd) ",
      "    ..."
     ]
    }
   ],
   "source": [
    "f <- function() stop(\"ouch\")\n",
    "g <- function() f()\n",
    "g()"
   ]
  }
 ],
 "metadata": {
  "kernelspec": {
   "display_name": "R 4.4.2 (xr)",
   "language": "R",
   "name": "xr"
  },
  "language_info": {
   "codemirror_mode": "",
   "file_extension": "R",
   "mimetype": "text/x-R",
   "name": "R",
   "nbconvert_exporter": "",
   "pygments_lexer": "",
   "version": "4.4.2"
  }
 },
 "nbformat": 4,
 "nbformat_minor": 5
}
