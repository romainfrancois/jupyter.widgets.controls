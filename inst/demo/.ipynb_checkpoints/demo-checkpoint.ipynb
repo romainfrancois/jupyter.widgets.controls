{
 "cells": [
  {
   "cell_type": "code",
   "execution_count": 3,
   "id": "91b70f7f-ec3b-410a-855d-257887622217",
   "metadata": {},
   "outputs": [
    {
     "data": {
      "application/vnd.jupyter.widget-view+json": {
       "model_id": "213e410b4a2b42ec872bb9640d34cde0",
       "version_major": 2,
       "version_minor": 0
      }
     },
     "execution_count": 3,
     "metadata": {},
     "output_type": "execute_result"
    }
   ],
   "source": [
    "library(jupyter.widgets.controls)\n",
    "\n",
    "slider <- IntSlider(style = SliderStyle())\n",
    "txt <- Text()\n",
    "b <- Button(description = \"update slider\")\n",
    "\n",
    "# when the button is clicked, the slider value changes\n",
    "b$on(\"click\", function(){\n",
    "    slider$value <- round(runif(1, min = 0, max = 100))\n",
    "})\n",
    "\n",
    "# when the slider value changes, the txt changes\n",
    "slider$observe(\"value\", function(new, ...) {\n",
    "    txt$value <- paste(sample(letters, size = new, replace = TRUE), collapse = \"\")\n",
    "})\n",
    "\n",
    "# change the color of the slider handle\n",
    "picker <- ColorPicker()\n",
    "picker$observe(\"value\", function(new, ...) {\n",
    "    slider$style$handle_color <- new\n",
    "})\n",
    "\n",
    "box <- Box(list(slider, b, txt, picker))\n",
    "\n",
    "box"
   ]
  }
 ],
 "metadata": {
  "kernelspec": {
   "display_name": "R 4.4.2 (xr)",
   "language": "R",
   "name": "xr"
  },
  "language_info": {
   "codemirror_mode": "",
   "file_extension": "R",
   "mimetype": "text/x-R",
   "name": "R",
   "nbconvert_exporter": "",
   "pygments_lexer": "",
   "version": "4.4.2"
  }
 },
 "nbformat": 4,
 "nbformat_minor": 5
}
